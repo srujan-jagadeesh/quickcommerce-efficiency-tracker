{
  "nbformat": 4,
  "nbformat_minor": 0,
  "metadata": {
    "colab": {
      "provenance": []
    },
    "kernelspec": {
      "name": "python3",
      "display_name": "Python 3"
    },
    "language_info": {
      "name": "python"
    }
  },
  "cells": [
    {
      "cell_type": "code",
      "execution_count": 1,
      "metadata": {
        "colab": {
          "base_uri": "https://localhost:8080/"
        },
        "id": "UnFQECIV0bnp",
        "outputId": "411014c5-3e89-4cfb-a746-a0d95dafa776"
      },
      "outputs": [
        {
          "output_type": "stream",
          "name": "stdout",
          "text": [
            "📦 QuickCommerce Picker Daily Report\n",
            "Enter picker name: srujan\n",
            "Enter total orders packed today: 200\n",
            "Enter total hours worked: 9\n",
            "Enter total break time (in hours): .5\n",
            "\n",
            "--- Picker Performance Report ---\n",
            "Name: srujan\n",
            "Orders Packed: 200\n",
            "Effective Hours: 8.5\n",
            "Efficiency: 23.53 orders/hour\n",
            "Bonus Earned: ₹ 500\n"
          ]
        }
      ],
      "source": [
        "# Step 1: Input Picker Performance Data\n",
        "\n",
        "print(\"📦 QuickCommerce Picker Daily Report\")\n",
        "\n",
        "name = input(\"Enter picker name: \")\n",
        "orders = int(input(\"Enter total orders packed today: \"))\n",
        "hours_worked = float(input(\"Enter total hours worked: \"))\n",
        "break_time = float(input(\"Enter total break time (in hours): \"))\n",
        "\n",
        "# Step 2: Effective Work Hours\n",
        "effective_hours = hours_worked - break_time\n",
        "efficiency = orders / effective_hours if effective_hours > 0 else 0\n",
        "\n",
        "# Step 3: Bonus Logic\n",
        "if orders > 50:\n",
        "    bonus = 500\n",
        "elif orders > 30:\n",
        "    bonus = 200\n",
        "else:\n",
        "    bonus = 0\n",
        "\n",
        "# Step 4: Output Report\n",
        "print(\"\\n--- Picker Performance Report ---\")\n",
        "print(\"Name:\", name)\n",
        "print(\"Orders Packed:\", orders)\n",
        "print(\"Effective Hours:\", round(effective_hours, 2))\n",
        "print(\"Efficiency:\", round(efficiency, 2), \"orders/hour\")\n",
        "print(\"Bonus Earned: ₹\", bonus)\n"
      ]
    }
  ]
}