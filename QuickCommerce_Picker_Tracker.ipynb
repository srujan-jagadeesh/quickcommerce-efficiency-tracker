{
  "nbformat": 4,
  "nbformat_minor": 0,
  "metadata": {
    "colab": {
      "provenance": []
    },
    "kernelspec": {
      "name": "python3",
      "display_name": "Python 3"
    },
    "language_info": {
      "name": "python"
    }
  },
  "cells": [
    {
      "cell_type": "code",
      "execution_count": 3,
      "metadata": {
        "colab": {
          "base_uri": "https://localhost:8080/"
        },
        "id": "UnFQECIV0bnp",
        "outputId": "7dbfa2fd-eae0-4c0b-b111-bcef0a99a0cd"
      },
      "outputs": [
        {
          "output_type": "stream",
          "name": "stdout",
          "text": [
            "How many pickers today? 3\n",
            "\n",
            "--- Picker 1 ---\n",
            "Name: srujan\n",
            "Orders Packed: 52\n",
            "Hours Worked: 8\n",
            "Break Time: 0.5\n",
            "\n",
            "--- Picker 2 ---\n",
            "Name: ravi\n",
            "Orders Packed: 30\n",
            "Hours Worked: 7.5\n",
            "Break Time: 1\n",
            "\n",
            "--- Picker 3 ---\n",
            "Name: divya\n",
            "Orders Packed: 45\n",
            "Hours Worked: 8\n",
            "Break Time: 0.5\n",
            "\n",
            "📁 Picker report saved to picker_report.csv ✅\n",
            "\n",
            "===== Daily Summary =====\n",
            "srujan - 52 orders - 6.93 orders/hr - ₹500 bonus\n",
            "ravi - 30 orders - 4.62 orders/hr - ₹0 bonus\n",
            "divya - 45 orders - 6.0 orders/hr - ₹200 bonus\n"
          ]
        }
      ],
      "source": [
        "import csv\n",
        "\n",
        "# Bonus calculator function\n",
        "def calculate_bonus(orders):\n",
        "    if orders > 50:\n",
        "        return 500\n",
        "    elif orders > 30:\n",
        "        return 200\n",
        "    else:\n",
        "        return 0\n",
        "\n",
        "# Ask how many pickers\n",
        "num = int(input(\"How many pickers today? \"))\n",
        "pickers = []\n",
        "\n",
        "# Collect data\n",
        "for i in range(num):\n",
        "    print(f\"\\n--- Picker {i+1} ---\")\n",
        "    name = input(\"Name: \")\n",
        "    orders = int(input(\"Orders Packed: \"))\n",
        "    hours = float(input(\"Hours Worked: \"))\n",
        "    break_time = float(input(\"Break Time: \"))\n",
        "\n",
        "    eff_hours = hours - break_time\n",
        "    efficiency = orders / eff_hours if eff_hours > 0 else 0\n",
        "    bonus = calculate_bonus(orders)\n",
        "\n",
        "    picker_report = {\n",
        "        \"name\": name,\n",
        "        \"orders\": orders,\n",
        "        \"efficiency\": round(efficiency, 2),\n",
        "        \"bonus\": bonus\n",
        "    }\n",
        "\n",
        "    pickers.append(picker_report)\n",
        "\n",
        "# Save to CSV\n",
        "filename = \"picker_report.csv\"\n",
        "with open(filename, mode='w', newline='') as file:\n",
        "    writer = csv.DictWriter(file, fieldnames=[\"name\", \"orders\", \"efficiency\", \"bonus\"])\n",
        "    writer.writeheader()\n",
        "    writer.writerows(pickers)\n",
        "\n",
        "print(f\"\\n📁 Picker report saved to {filename} ✅\")\n",
        "\n",
        "# Print summary\n",
        "print(\"\\n===== Daily Summary =====\")\n",
        "for p in pickers:\n",
        "    print(f\"{p['name']} - {p['orders']} orders - {p['efficiency']} orders/hr - ₹{p['bonus']} bonus\")\n"
      ]
    }
  ]
}